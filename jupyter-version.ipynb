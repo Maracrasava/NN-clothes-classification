{
 "cells": [
  {
   "cell_type": "code",
   "execution_count": 1,
   "metadata": {},
   "outputs": [],
   "source": [
    "import tensorflow as tf\n",
    "from tensorflow import keras\n",
    "import numpy as np\n",
    "import matplotlib.pyplot as plt"
   ]
  },
  {
   "cell_type": "code",
   "execution_count": 10,
   "metadata": {},
   "outputs": [],
   "source": [
    "fashion_mnist = keras.datasets.fashion_mnist\n",
    "(train_images, train_labels), (test_images, test_labels) = fashion_mnist.load_data()\n",
    "class_names = ['T-shirt/top', 'Trouser', 'Pullover', 'Dress',\n",
    "                        'Coat', 'Sandal', 'Shirt', 'Sneaker', 'Bag', 'Ankle boot']"
   ]
  },
  {
   "cell_type": "code",
   "execution_count": 3,
   "metadata": {},
   "outputs": [],
   "source": [
    "# print(len(test_labels)): 10000 images in training set\n",
    "\n",
    "# Scaling data\n",
    "train_images = train_images / 255\n",
    "test_images = test_images / 255\n",
    "\n",
    "# Building the model\n",
    "model = keras.Sequential([\n",
    "    keras.layers.Flatten(input_shape=(28, 28)),\n",
    "    keras.layers.Dense(128, activation='relu'),\n",
    "    keras.layers.Dense(10)\n",
    "])"
   ]
  },
  {
   "cell_type": "code",
   "execution_count": 4,
   "metadata": {},
   "outputs": [
    {
     "name": "stdout",
     "output_type": "stream",
     "text": [
      "Epoch 1/10\n",
      "   1/1875 [..............................] - ETA: 0s - loss: 2.5620 - accuracy: 0.1562WARNING:tensorflow:Callbacks method `on_train_batch_begin` is slow compared to the batch time (batch time: 0.0000s vs `on_train_batch_begin` time: 0.0010s). Check your callbacks.\n",
      "1875/1875 [==============================] - 1s 432us/step - loss: 0.5003 - accuracy: 0.8237\n",
      "Epoch 2/10\n",
      "1875/1875 [==============================] - 1s 429us/step - loss: 0.3757 - accuracy: 0.8645\n",
      "Epoch 3/10\n",
      "1875/1875 [==============================] - 1s 475us/step - loss: 0.3363 - accuracy: 0.8776\n",
      "Epoch 4/10\n",
      "1875/1875 [==============================] - 1s 447us/step - loss: 0.3126 - accuracy: 0.8849\n",
      "Epoch 5/10\n",
      "1875/1875 [==============================] - 1s 447us/step - loss: 0.2954 - accuracy: 0.8906\n",
      "Epoch 6/10\n",
      "1875/1875 [==============================] - 1s 446us/step - loss: 0.2781 - accuracy: 0.8979\n",
      "Epoch 7/10\n",
      "1875/1875 [==============================] - 1s 447us/step - loss: 0.2673 - accuracy: 0.8998\n",
      "Epoch 8/10\n",
      "1875/1875 [==============================] - 1s 446us/step - loss: 0.2553 - accuracy: 0.9049\n",
      "Epoch 9/10\n",
      "1875/1875 [==============================] - 1s 448us/step - loss: 0.2469 - accuracy: 0.9074\n",
      "Epoch 10/10\n",
      "1875/1875 [==============================] - 1s 453us/step - loss: 0.2374 - accuracy: 0.9108\n",
      "313/313 - 0s - loss: 0.3405 - accuracy: 0.8800\n",
      "Test accuracy: 0.8799999952316284\n"
     ]
    }
   ],
   "source": [
    "# Compiling the model\n",
    "model.compile(optimizer='adam',  # Stochastic Gradient decent\n",
    "              loss=tf.keras.losses.SparseCategoricalCrossentropy(from_logits=True),\n",
    "              metrics=['accuracy'])\n",
    "\n",
    "# Train the model\n",
    "model.fit(train_images, train_labels, epochs=10)\n",
    "\n",
    "# Evaluating accuracy using test set\n",
    "test_loss, test_acc = model.evaluate(test_images, test_labels, verbose=2)\n",
    "\n",
    "print('Test accuracy:', test_acc)"
   ]
  },
  {
   "cell_type": "code",
   "execution_count": 12,
   "metadata": {},
   "outputs": [
    {
     "name": "stdout",
     "output_type": "stream",
     "text": [
      "Prediction: Ankle boot, Actual: Ankle boot\n"
     ]
    }
   ],
   "source": [
    "# Making predictions\n",
    "probability_model = keras.Sequential([model, tf.keras.layers.Softmax()])\n",
    "# Here, the model has predicted the label for each image in the testing set.\n",
    "predictions = probability_model.predict(test_images)\n",
    "print(f\"Prediction: {class_names[np.argmax(predictions[0])]}, Actual: {class_names[test_labels[0]]}\")"
   ]
  },
  {
   "cell_type": "code",
   "execution_count": null,
   "metadata": {},
   "outputs": [],
   "source": []
  }
 ],
 "metadata": {
  "kernelspec": {
   "display_name": "tengpu",
   "language": "python",
   "name": "tengpu"
  },
  "language_info": {
   "codemirror_mode": {
    "name": "ipython",
    "version": 3
   },
   "file_extension": ".py",
   "mimetype": "text/x-python",
   "name": "python",
   "nbconvert_exporter": "python",
   "pygments_lexer": "ipython3",
   "version": "3.7.7"
  }
 },
 "nbformat": 4,
 "nbformat_minor": 4
}
